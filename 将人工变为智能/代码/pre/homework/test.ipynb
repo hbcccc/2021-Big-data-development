{
 "cells": [
  {
   "cell_type": "code",
   "execution_count": null,
   "metadata": {
    "collapsed": true
   },
   "outputs": [],
   "source": [
    "import pandas as pd\n",
    "from sklearn.model_selection import train_test_split\n",
    "from sklearn.linear_model import LogisticRegression\n",
    "import os\n",
    "\n",
    "if __name__ == '__main__':\n",
    "    dataset_path = os.path.join(\"~/s3data/dataset\", '/kaggleData/data.csv')\n",
    "\n",
    "    # 读取data.csv数据\n",
    "    df = pd.read_csv(dataset_path)\n",
    "    print(df.head(10))\n"
   ]
  }
 ],
 "metadata": {
  "kernelspec": {
   "display_name": "Python 3",
   "language": "python",
   "name": "python3"
  },
  "language_info": {
   "codemirror_mode": {
    "name": "ipython",
    "version": 2
   },
   "file_extension": ".py",
   "mimetype": "text/x-python",
   "name": "python",
   "nbconvert_exporter": "python",
   "pygments_lexer": "ipython2",
   "version": "2.7.6"
  }
 },
 "nbformat": 4,
 "nbformat_minor": 0
}